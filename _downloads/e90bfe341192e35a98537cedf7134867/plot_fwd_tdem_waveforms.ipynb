{
  "cells": [
    {
      "cell_type": "code",
      "execution_count": null,
      "metadata": {
        "collapsed": false
      },
      "outputs": [],
      "source": [
        "%matplotlib inline"
      ]
    },
    {
      "cell_type": "markdown",
      "metadata": {},
      "source": [
        "\n# TDEM: Waveforms\n\nIn this example, we plot the waveforms available in the TDEM module in addition\nto the `StepOffWaveform`\n"
      ]
    },
    {
      "cell_type": "code",
      "execution_count": null,
      "metadata": {
        "collapsed": false
      },
      "outputs": [],
      "source": [
        "import numpy as np\nimport matplotlib.pyplot as plt\nfrom SimPEG.utils import mkvc\nfrom SimPEG.electromagnetics import time_domain as TDEM\n\nnT = 1000\nmax_t = 5e-3\ntimes = max_t * np.arange(0, nT) / float(nT)\n\n# create the waveforms\nramp_off = TDEM.Src.RampOffWaveform(offTime=max_t)\nvtem = TDEM.Src.VTEMWaveform()\ntrapezoid = TDEM.Src.TrapezoidWaveform(\n    ramp_on=np.r_[0.0, 1.5e-3], ramp_off=max_t - np.r_[1.5e-3, 0]\n)\ntriangular = TDEM.Src.TriangularWaveform(peakTime=max_t / 2, offTime=max_t)\nquarter_sine = TDEM.Src.QuarterSineRampOnWaveform(\n    ramp_on=np.r_[0.0, 1.5e-3], ramp_off=max_t - np.r_[1.5e-3, 0]\n)\nhalf_sine = TDEM.Src.HalfSineWaveform(\n    ramp_on=np.r_[0.0, 1.5e-3], ramp_off=max_t - np.r_[1.5e-3, 0]\n)\n\nwaveforms = dict(\n    zip(\n        [\n            \"RampOffWaveform\",\n            \"TrapezoidWaveform\",\n            \"QuarterSineRampOnWaveform\",\n            \"VTEMWaveform\",\n            \"TriangularWaveform\",\n            \"HalfSineWaveform\",\n        ],\n        [ramp_off, trapezoid, quarter_sine, vtem, triangular, half_sine],\n    )\n)\n\n# plot the waveforms\nfig, ax = plt.subplots(3, 2, figsize=(7, 10))\nax = mkvc(ax)\n\nfor a, key in zip(ax, waveforms):\n    wave = waveforms[key]\n    wave_plt = [wave.eval(t) for t in times]\n    a.plot(times, wave_plt)\n    a.set_title(key)\n    a.set_xlabel(\"time (s)\")\n\nplt.tight_layout()\nplt.show()"
      ]
    }
  ],
  "metadata": {
    "kernelspec": {
      "display_name": "Python 3",
      "language": "python",
      "name": "python3"
    },
    "language_info": {
      "codemirror_mode": {
        "name": "ipython",
        "version": 3
      },
      "file_extension": ".py",
      "mimetype": "text/x-python",
      "name": "python",
      "nbconvert_exporter": "python",
      "pygments_lexer": "ipython3",
      "version": "3.7.13"
    }
  },
  "nbformat": 4,
  "nbformat_minor": 0
}