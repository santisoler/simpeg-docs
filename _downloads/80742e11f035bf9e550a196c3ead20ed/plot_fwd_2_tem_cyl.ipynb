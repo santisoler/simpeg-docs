{
  "cells": [
    {
      "cell_type": "code",
      "execution_count": null,
      "metadata": {
        "collapsed": false
      },
      "outputs": [],
      "source": [
        "%matplotlib inline"
      ]
    },
    {
      "cell_type": "markdown",
      "metadata": {},
      "source": [
        "\n# Forward Simulation for Transient Response on a Cylindrical Mesh\n\nHere we use the module *SimPEG.electromagnetics.time_domain* to simulate the\ntransient response for an airborne survey using a cylindrical mesh and a conductivity\nmodel. We simulate a single line of airborne data at many time channels for a vertical\ncoplanar survey geometry. For this tutorial, we focus on the following:\n\n    - How to define the transmitters and receivers\n    - How to define the transmitter waveform for a step-off\n    - How to define the time-stepping\n    - How to define the survey\n    - How to solve TDEM problems on a cylindrical mesh\n    - The units of the conductivity/resistivity model and resulting data\n    \n\nPlease note that we have used a coarse mesh larger time-stepping to shorten the\ntime of the simulation. Proper discretization in space and time is required to\nsimulate the fields at each time channel with sufficient accuracy.\n"
      ]
    },
    {
      "cell_type": "markdown",
      "metadata": {},
      "source": [
        "## Import Modules\n\n\n"
      ]
    },
    {
      "cell_type": "code",
      "execution_count": null,
      "metadata": {
        "collapsed": false
      },
      "outputs": [],
      "source": [
        "from discretize import CylMesh\nfrom discretize.utils import mkvc\n\nfrom SimPEG import maps\nimport SimPEG.electromagnetics.time_domain as tdem\n\nimport numpy as np\nimport matplotlib as mpl\nimport matplotlib.pyplot as plt\n\ntry:\n    from pymatsolver import Pardiso as Solver\nexcept ImportError:\n    from SimPEG import SolverLU as Solver\n\nwrite_file = False\n\n# sphinx_gallery_thumbnail_number = 2"
      ]
    },
    {
      "cell_type": "markdown",
      "metadata": {},
      "source": [
        "## Defining the Waveform\n\nUnder *SimPEG.electromagnetic.time_domain.sources*\nthere are a multitude of waveforms that can be defined (VTEM, Ramp-off etc...).\nHere we simulate the response due to a step off waveform where the off-time\nbegins at t=0. Other waveforms are discuss in the OcTree simulation example.\n\n\n"
      ]
    },
    {
      "cell_type": "code",
      "execution_count": null,
      "metadata": {
        "collapsed": false
      },
      "outputs": [],
      "source": [
        "waveform = tdem.sources.StepOffWaveform(offTime=0.0)"
      ]
    },
    {
      "cell_type": "markdown",
      "metadata": {},
      "source": [
        "## Create Airborne Survey\n\nHere we define the survey used in our simulation. For time domain\nsimulations, we must define the geometry of the source and its waveform. For\nthe receivers, we define their geometry, the type of field they measure and the time\nchannels at which they measure the field. For this example,\nthe survey consists of a uniform grid of airborne measurements.\n\n\n"
      ]
    },
    {
      "cell_type": "code",
      "execution_count": null,
      "metadata": {
        "collapsed": false
      },
      "outputs": [],
      "source": [
        "# Observation times for response (time channels)\ntime_channels = np.logspace(-4, -2, 11)\n\n# Defining transmitter locations\nxtx, ytx, ztx = np.meshgrid(np.linspace(0, 200, 41), [0], [55])\nsource_locations = np.c_[mkvc(xtx), mkvc(ytx), mkvc(ztx)]\nntx = np.size(xtx)\n\n# Define receiver locations\nxrx, yrx, zrx = np.meshgrid(np.linspace(0, 200, 41), [0], [50])\nreceiver_locations = np.c_[mkvc(xrx), mkvc(yrx), mkvc(zrx)]\n\nsource_list = []  # Create empty list to store sources\n\n# Each unique location defines a new transmitter\nfor ii in range(ntx):\n\n    # Define receivers at each location.\n    dbzdt_receiver = tdem.receivers.PointMagneticFluxTimeDerivative(\n        receiver_locations[ii, :], time_channels, \"z\"\n    )\n    receivers_list = [\n        dbzdt_receiver\n    ]  # Make a list containing all receivers even if just one\n\n    # Must define the transmitter properties and associated receivers\n    source_list.append(\n        tdem.sources.MagDipole(\n            receivers_list,\n            location=source_locations[ii],\n            waveform=waveform,\n            moment=1.0,\n            orientation=\"z\",\n        )\n    )\n\nsurvey = tdem.Survey(source_list)"
      ]
    },
    {
      "cell_type": "markdown",
      "metadata": {},
      "source": [
        "## Create Cylindrical Mesh\n\nHere we create the cylindrical mesh that will be used for this tutorial\nexample. We chose to design a coarser mesh to decrease the run time.\nWhen designing a mesh to solve practical time domain problems:\n\n    - Your smallest cell size should be 10%-20% the size of your smallest diffusion distance\n    - The thickness of your padding needs to be 2-3 times biggest than your largest diffusion distance\n    - The diffusion distance is ~1260*np.sqrt(rho*t)\n\n\n\n"
      ]
    },
    {
      "cell_type": "code",
      "execution_count": null,
      "metadata": {
        "collapsed": false
      },
      "outputs": [],
      "source": [
        "hr = [(10.0, 50), (10.0, 10, 1.5)]\nhz = [(10.0, 10, -1.5), (10.0, 100), (10.0, 10, 1.5)]\n\nmesh = CylMesh([hr, 1, hz], x0=\"00C\")"
      ]
    },
    {
      "cell_type": "markdown",
      "metadata": {},
      "source": [
        "## Create Conductivity/Resistivity Model and Mapping\n\nHere, we create the model that will be used to predict time domain\ndata and the mapping from the model to the mesh. The model\nconsists of a long vertical conductive pipe and a resistive\nsurface layer. For this example, we will have only flat topography.\n\n\n"
      ]
    },
    {
      "cell_type": "code",
      "execution_count": null,
      "metadata": {
        "collapsed": false
      },
      "outputs": [],
      "source": [
        "# Conductivity in S/m (or resistivity in Ohm m)\nair_conductivity = 1e-8\nbackground_conductivity = 1e-1\nlayer_conductivity = 1e-2\npipe_conductivity = 1e1\n\n# Find cells that are active in the forward modeling (cells below surface)\nind_active = mesh.gridCC[:, 2] < 0\n\n# Define mapping from model to active cells\nmodel_map = maps.InjectActiveCells(mesh, ind_active, air_conductivity)\n\n# Define the model\nmodel = background_conductivity * np.ones(ind_active.sum())\nind_layer = (mesh.gridCC[ind_active, 2] > -200.0) & (mesh.gridCC[ind_active, 2] < -0)\nmodel[ind_layer] = layer_conductivity\nind_pipe = (\n    (mesh.gridCC[ind_active, 0] < 50.0)\n    & (mesh.gridCC[ind_active, 2] > -10000.0)\n    & (mesh.gridCC[ind_active, 2] < 0.0)\n)\nmodel[ind_pipe] = pipe_conductivity\n\n\n# Plot Resistivity Model\nmpl.rcParams.update({\"font.size\": 12})\nfig = plt.figure(figsize=(4.5, 6))\n\nplotting_map = maps.InjectActiveCells(mesh, ind_active, np.nan)\nlog_model = np.log10(model)  # So scaling is log-scale\n\nax1 = fig.add_axes([0.14, 0.1, 0.6, 0.85])\nmesh.plotImage(\n    plotting_map * log_model,\n    ax=ax1,\n    grid=False,\n    clim=(np.log10(layer_conductivity), np.log10(pipe_conductivity)),\n)\nax1.set_title(\"Conductivity Model (Survey in red)\")\n\nax1.plot(receiver_locations[:, 0], receiver_locations[:, 2], \"r.\")\n\nax2 = fig.add_axes([0.76, 0.1, 0.05, 0.85])\nnorm = mpl.colors.Normalize(\n    vmin=np.log10(layer_conductivity), vmax=np.log10(pipe_conductivity)\n)\ncbar = mpl.colorbar.ColorbarBase(\n    ax2, norm=norm, orientation=\"vertical\", format=\"$10^{%.1f}$\"\n)\ncbar.set_label(\"Conductivity [$S/m$]\", rotation=270, labelpad=15, size=12)"
      ]
    },
    {
      "cell_type": "markdown",
      "metadata": {},
      "source": [
        "## Define the Time-Stepping\n\nStuff about time-stepping and some rule of thumb for step-off waveform\n\n\n"
      ]
    },
    {
      "cell_type": "code",
      "execution_count": null,
      "metadata": {
        "collapsed": false
      },
      "outputs": [],
      "source": [
        "time_steps = [(5e-06, 20), (0.0001, 20), (0.001, 21)]"
      ]
    },
    {
      "cell_type": "markdown",
      "metadata": {},
      "source": [
        "## Define the Simulation\n\nHere we define the formulation for solving Maxwell's equations. Since we are\nmeasuring the time-derivative of the magnetic flux density and working with\na conductivity model, the EB formulation is the most natural. We must also\nremember to define the mapping for the conductivity model. Use *rhoMap* instead\nof *sigmaMap* if you defined a resistivity model.\n\n\n"
      ]
    },
    {
      "cell_type": "code",
      "execution_count": null,
      "metadata": {
        "collapsed": false
      },
      "outputs": [],
      "source": [
        "simulation = tdem.simulation.Simulation3DMagneticFluxDensity(\n    mesh, survey=survey, sigmaMap=model_map, Solver=Solver\n)\n\n# Set the time-stepping for the simulation\nsimulation.time_steps = time_steps"
      ]
    },
    {
      "cell_type": "markdown",
      "metadata": {},
      "source": [
        "## Predict Data and Plot\n\n\n\n"
      ]
    },
    {
      "cell_type": "code",
      "execution_count": null,
      "metadata": {
        "collapsed": false
      },
      "outputs": [],
      "source": [
        "# Data are organized by transmitter, then by\n# receiver then by observation time. dBdt data are in T/s.\ndpred = simulation.dpred(model)\n\n# Plot the response\ndpred = np.reshape(dpred, (ntx, len(time_channels)))\n\n# TDEM Profile\nfig = plt.figure(figsize=(5, 5))\nax1 = fig.add_subplot(111)\nfor ii in range(0, len(time_channels)):\n    ax1.plot(\n        receiver_locations[:, 0], -dpred[:, ii], \"k\", lw=2\n    )  # -ve sign to plot -dBz/dt\nax1.set_xlim((0, np.max(xtx)))\nax1.set_xlabel(\"Easting [m]\")\nax1.set_ylabel(\"-dBz/dt [T/s]\")\nax1.set_title(\"Airborne TDEM Profile\")\n\n# Response over pipe for all time channels\nfig = plt.figure(figsize=(5, 5))\nax1 = fig.add_subplot(111)\nax1.loglog(time_channels, -dpred[0, :], \"b\", lw=2)\nax1.loglog(time_channels, -dpred[-1, :], \"r\", lw=2)\nax1.set_xlim((np.min(time_channels), np.max(time_channels)))\nax1.set_xlabel(\"time [s]\")\nax1.set_ylabel(\"-dBz/dt [T/s]\")\nax1.set_title(\"Decay Curve\")\nax1.legend([\"Over pipe\", \"Background\"], loc=\"lower left\")"
      ]
    }
  ],
  "metadata": {
    "kernelspec": {
      "display_name": "Python 3",
      "language": "python",
      "name": "python3"
    },
    "language_info": {
      "codemirror_mode": {
        "name": "ipython",
        "version": 3
      },
      "file_extension": ".py",
      "mimetype": "text/x-python",
      "name": "python",
      "nbconvert_exporter": "python",
      "pygments_lexer": "ipython3",
      "version": "3.7.9"
    }
  },
  "nbformat": 4,
  "nbformat_minor": 0
}