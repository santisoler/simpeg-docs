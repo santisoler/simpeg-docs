{
  "cells": [
    {
      "cell_type": "code",
      "execution_count": null,
      "metadata": {
        "collapsed": false
      },
      "outputs": [],
      "source": [
        "%matplotlib inline"
      ]
    },
    {
      "cell_type": "markdown",
      "metadata": {},
      "source": [
        "\n# 2.5D DC Resistivity Inversion with Sparse Norms\n\nHere we invert a line of DC resistivity data to recover an electrical\nconductivity model. We formulate the inverse problem as a least-squares\noptimization problem. For this tutorial, we focus on the following:\n\n    - Defining the survey\n    - Generating a mesh based on survey geometry\n    - Including surface topography\n    - Defining the inverse problem (data misfit, regularization, directives)\n    - Applying sensitivity weighting\n    - Plotting the recovered model and data misfit\n"
      ]
    },
    {
      "cell_type": "markdown",
      "metadata": {},
      "source": [
        "## Import modules\n\n\n"
      ]
    },
    {
      "cell_type": "code",
      "execution_count": null,
      "metadata": {
        "collapsed": false
      },
      "outputs": [],
      "source": [
        "import os\nimport numpy as np\nimport matplotlib as mpl\nimport matplotlib.pyplot as plt\nimport tarfile\n\nfrom discretize import TreeMesh\nfrom discretize.utils import mkvc, refine_tree_xyz\n\nfrom SimPEG.utils import surface2ind_topo\nfrom SimPEG import (\n    maps,\n    data,\n    data_misfit,\n    regularization,\n    optimization,\n    inverse_problem,\n    inversion,\n    directives,\n    utils,\n)\nfrom SimPEG.electromagnetics.static import resistivity as dc\nfrom SimPEG.electromagnetics.static.utils.static_utils import plot_pseudoSection\n\ntry:\n    from pymatsolver import Pardiso as Solver\nexcept ImportError:\n    from SimPEG import SolverLU as Solver\n\n# sphinx_gallery_thumbnail_number = 2"
      ]
    },
    {
      "cell_type": "markdown",
      "metadata": {},
      "source": [
        "## Define File Names\n\nHere we provide the file paths to assets we need to run the inversion. The\npath to the true model conductivity and chargeability models are also\nprovided for comparison with the inversion results. These files are stored as a\ntar-file on our google cloud bucket:\n\"https://storage.googleapis.com/simpeg/doc-assets/dcip2d.tar.gz\"\n\n\n"
      ]
    },
    {
      "cell_type": "code",
      "execution_count": null,
      "metadata": {
        "collapsed": false
      },
      "outputs": [],
      "source": [
        "# storage bucket where we have the data\ndata_source = \"https://storage.googleapis.com/simpeg/doc-assets/dcip2d.tar.gz\"\n\n# download the data\ndownloaded_data = utils.download(data_source, overwrite=True)\n\n# unzip the tarfile\ntar = tarfile.open(downloaded_data, \"r\")\ntar.extractall()\ntar.close()\n\n# path to the directory containing our data\ndir_path = downloaded_data.split(\".\")[0] + os.path.sep\n\n# files to work with\ntopo_filename = dir_path + \"xyz_topo.txt\"\ndata_filename = dir_path + \"dc_data.obs\"\ntrue_conductivity_filename = dir_path + \"true_conductivity.txt\""
      ]
    },
    {
      "cell_type": "markdown",
      "metadata": {},
      "source": [
        "## Load Data, Define Survey and Plot\n\nHere we load the observed data, define the DC and IP survey geometry and\nplot the data values using pseudo-sections.\n\n\n"
      ]
    },
    {
      "cell_type": "code",
      "execution_count": null,
      "metadata": {
        "collapsed": false
      },
      "outputs": [],
      "source": [
        "# Load data\ntopo_xyz = np.loadtxt(str(topo_filename))\ndobs = np.loadtxt(str(data_filename))\n\n# Extract source and receiver electrode locations and the observed data\nA_electrodes = dobs[:, 0:2]\nB_electrodes = dobs[:, 2:4]\nM_electrodes = dobs[:, 4:6]\nN_electrodes = dobs[:, 6:8]\ndobs = dobs[:, -1]\n\n# Define survey\nunique_tx, k = np.unique(np.c_[A_electrodes, B_electrodes], axis=0, return_index=True)\nn_sources = len(k)\nk = np.r_[k, len(A_electrodes) + 1]\n\nsource_list = []\nfor ii in range(0, n_sources):\n\n    # MN electrode locations for receivers. Each is an (N, 3) numpy array\n    M_locations = M_electrodes[k[ii] : k[ii + 1], :]\n    N_locations = N_electrodes[k[ii] : k[ii + 1], :]\n    receiver_list = [dc.receivers.Dipole(M_locations, N_locations, data_type=\"volt\")]\n\n    # AB electrode locations for source. Each is a (1, 3) numpy array\n    A_location = A_electrodes[k[ii], :]\n    B_location = B_electrodes[k[ii], :]\n    source_list.append(dc.sources.Dipole(receiver_list, A_location, B_location))\n\n# Define survey\nsurvey = dc.survey.Survey_ky(source_list)\n\n# Define the a data object. Uncertainties are added later\ndc_data = data.Data(survey, dobs=dobs)\n\n# Plot apparent conductivity using pseudo-section\nmpl.rcParams.update({\"font.size\": 12})\nfig = plt.figure(figsize=(12, 5))\n\nax1 = fig.add_axes([0.05, 0.05, 0.8, 0.9])\nplot_pseudoSection(\n    dc_data,\n    ax=ax1,\n    survey_type=\"dipole-dipole\",\n    data_type=\"appConductivity\",\n    space_type=\"half-space\",\n    scale=\"log\",\n    pcolorOpts={\"cmap\": \"viridis\"},\n)\nax1.set_title(\"Apparent Conductivity [S/m]\")\n\nplt.show()"
      ]
    },
    {
      "cell_type": "markdown",
      "metadata": {},
      "source": [
        "## Assign Uncertainties\n\nInversion with SimPEG requires that we define standard deviation on our data.\nThis represents our estimate of the noise in our data. For DC data, a relative\nerror is applied to each datum.\n\n\n"
      ]
    },
    {
      "cell_type": "code",
      "execution_count": null,
      "metadata": {
        "collapsed": false
      },
      "outputs": [],
      "source": [
        "# Compute standard deviations\nstd = 0.05 * np.abs(dobs)\n\n# Add standard deviations to data object\ndc_data.standard_deviation = std"
      ]
    },
    {
      "cell_type": "markdown",
      "metadata": {},
      "source": [
        "## Create OcTree Mesh\n\nHere, we create the OcTree mesh that will be used to predict both DC\nresistivity and IP data.\n\n\n"
      ]
    },
    {
      "cell_type": "code",
      "execution_count": null,
      "metadata": {
        "collapsed": false
      },
      "outputs": [],
      "source": [
        "dh = 10.0  # base cell width\ndom_width_x = 2400.0  # domain width x\ndom_width_z = 1200.0  # domain width z\nnbcx = 2 ** int(np.round(np.log(dom_width_x / dh) / np.log(2.0)))  # num. base cells x\nnbcz = 2 ** int(np.round(np.log(dom_width_z / dh) / np.log(2.0)))  # num. base cells z\n\n# Define the base mesh\nhx = [(dh, nbcx)]\nhz = [(dh, nbcz)]\nmesh = TreeMesh([hx, hz], x0=\"CN\")\n\n# Mesh refinement based on topography\nmesh = refine_tree_xyz(\n    mesh, topo_xyz[:, [0, 2]], octree_levels=[1], method=\"surface\", finalize=False\n)\n\n# Mesh refinement near transmitters and receivers\nelectrode_locations = np.r_[\n    survey.locations_a, survey.locations_b, survey.locations_m, survey.locations_n\n]\n\nunique_locations = np.unique(electrode_locations, axis=0)\n\nmesh = refine_tree_xyz(\n    mesh, unique_locations, octree_levels=[2, 4], method=\"radial\", finalize=False\n)\n\n# Refine core mesh region\nxp, zp = np.meshgrid([-800.0, 800.0], [-800.0, 0.0])\nxyz = np.c_[mkvc(xp), mkvc(zp)]\nmesh = refine_tree_xyz(mesh, xyz, octree_levels=[0, 2, 2], method=\"box\", finalize=False)\n\nmesh.finalize()"
      ]
    },
    {
      "cell_type": "markdown",
      "metadata": {},
      "source": [
        "## Project Surveys to Discretized Topography\n\nIt is important that electrodes are not model as being in the air. Even if the\nelectrodes are properly located along surface topography, they may lie above\nthe discretized topography. This step is carried out to ensure all electrodes\nlike on the discretized surface.\n\n\n"
      ]
    },
    {
      "cell_type": "code",
      "execution_count": null,
      "metadata": {
        "collapsed": false
      },
      "outputs": [],
      "source": [
        "# Find cells that lie below surface topography\nind_active = surface2ind_topo(mesh, topo_xyz[:, [0, 2]])\n\n# Shift electrodes to the surface of discretized topography\nsurvey.drape_electrodes_on_topography(mesh, ind_active, option=\"top\")"
      ]
    },
    {
      "cell_type": "markdown",
      "metadata": {},
      "source": [
        "## Starting/Reference Model and Mapping on OcTree Mesh\n\nHere, we would create starting and/or reference models for the DC inversion as\nwell as the mapping from the model space to the active cells. Starting and\nreference models can be a constant background value or contain a-priori\nstructures. Here, the starting model is the natural log of 0.01 S/m.\n\n\n"
      ]
    },
    {
      "cell_type": "code",
      "execution_count": null,
      "metadata": {
        "collapsed": false
      },
      "outputs": [],
      "source": [
        "# Define conductivity model in S/m (or resistivity model in Ohm m)\nair_conductivity = np.log(1e-8)\nbackground_conductivity = np.log(1e-2)\n\nactive_map = maps.InjectActiveCells(mesh, ind_active, np.exp(air_conductivity))\nnC = int(ind_active.sum())\n\nconductivity_map = active_map * maps.ExpMap()\n\n# Define model\nstarting_conductivity_model = background_conductivity * np.ones(nC)"
      ]
    },
    {
      "cell_type": "markdown",
      "metadata": {},
      "source": [
        "## Define the Physics of the DC Simulation\n\nHere, we define the physics of the DC resistivity problem.\n\n\n"
      ]
    },
    {
      "cell_type": "code",
      "execution_count": null,
      "metadata": {
        "collapsed": false
      },
      "outputs": [],
      "source": [
        "# Define the problem. Define the cells below topography and the mapping\nsimulation = dc.simulation_2d.Simulation2DNodal(\n    mesh, survey=survey, sigmaMap=conductivity_map, Solver=Solver\n)"
      ]
    },
    {
      "cell_type": "markdown",
      "metadata": {},
      "source": [
        "## Define DC Inverse Problem\n\nThe inverse problem is defined by 3 things:\n\n    1) Data Misfit: a measure of how well our recovered model explains the field data\n    2) Regularization: constraints placed on the recovered model and a priori information\n    3) Optimization: the numerical approach used to solve the inverse problem\n\n\n\n"
      ]
    },
    {
      "cell_type": "code",
      "execution_count": null,
      "metadata": {
        "collapsed": false
      },
      "outputs": [],
      "source": [
        "# Define the data misfit. Here the data misfit is the L2 norm of the weighted\n# residual between the observed data and the data predicted for a given model.\n# Within the data misfit, the residual between predicted and observed data are\n# normalized by the data's standard deviation.\ndmis = data_misfit.L2DataMisfit(data=dc_data, simulation=simulation)\n\n# Define the regularization (model objective function). Here, 'p' defines the\n# the norm of the smallness term, 'qx' defines the norm of the smoothness\n# in x and 'qz' defines the norm of the smoothness in z.\nregmap = maps.IdentityMap(nP=int(ind_active.sum()))\n\nreg = regularization.Sparse(\n    mesh,\n    indActive=ind_active,\n    mref=starting_conductivity_model,\n    mapping=regmap,\n    gradientType=\"components\",\n    alpha_s=0.01,\n    alpha_x=1,\n    alpha_y=1,\n)\n\np = 0\nqx = 1\nqz = 1\nreg.norms = np.c_[p, qx, qz]\n\n# Define how the optimization problem is solved. Here we will use an inexact\n# Gauss-Newton approach.\nopt = optimization.InexactGaussNewton(maxIter=40)\n\n# Here we define the inverse problem that is to be solved\ninv_prob = inverse_problem.BaseInvProblem(dmis, reg, opt)"
      ]
    },
    {
      "cell_type": "markdown",
      "metadata": {},
      "source": [
        "## Define DC Inversion Directives\n\nHere we define any directives that are carried out during the inversion. This\nincludes the cooling schedule for the trade-off parameter (beta), stopping\ncriteria for the inversion and saving inversion results at each iteration.\n\n\n"
      ]
    },
    {
      "cell_type": "code",
      "execution_count": null,
      "metadata": {
        "collapsed": false
      },
      "outputs": [],
      "source": [
        "# Apply and update sensitivity weighting as the model updates\nupdate_sensitivity_weighting = directives.UpdateSensitivityWeights()\n\n# Reach target misfit for L2 solution, then use IRLS until model stops changing.\nupdate_IRLS = directives.Update_IRLS(\n    max_irls_iterations=20, minGNiter=1, beta_search=False, fix_Jmatrix=True\n)\n\n# Defining a starting value for the trade-off parameter (beta) between the data\n# misfit and the regularization.\nstarting_beta = directives.BetaEstimate_ByEig(beta0_ratio=1e0)\n\n# Update preconditionner\nupdate_Jacobi = directives.UpdatePreconditioner()\n\n# Options for outputting recovered models and predicted data for each beta.\nsave_iteration = directives.SaveOutputEveryIteration(save_txt=False)\n\ndirectives_list = [\n    update_sensitivity_weighting,\n    update_IRLS,\n    starting_beta,\n    save_iteration,\n]"
      ]
    },
    {
      "cell_type": "markdown",
      "metadata": {},
      "source": [
        "## Running the DC Inversion\n\nTo define the inversion object, we need to define the inversion problem and\nthe set of directives. We can then run the inversion.\n\n\n"
      ]
    },
    {
      "cell_type": "code",
      "execution_count": null,
      "metadata": {
        "collapsed": false
      },
      "outputs": [],
      "source": [
        "# Here we combine the inverse problem and the set of directives\ndc_inversion = inversion.BaseInversion(inv_prob, directiveList=directives_list)\n\n# Run inversion\nrecovered_conductivity_model = dc_inversion.run(starting_conductivity_model)"
      ]
    },
    {
      "cell_type": "markdown",
      "metadata": {},
      "source": [
        "## Plotting True and Recovered Conductivity Model\n\n\n"
      ]
    },
    {
      "cell_type": "code",
      "execution_count": null,
      "metadata": {
        "collapsed": false
      },
      "outputs": [],
      "source": [
        "# Load true conductivity model\ntrue_conductivity_model = np.loadtxt(str(true_conductivity_filename))\ntrue_conductivity_model_log10 = np.log10(true_conductivity_model[ind_active])\n\n# Get L2 and sparse recovered model in base 10\nl2_conductivity_model_log10 = np.log10(np.exp(inv_prob.l2model))\nrecovered_conductivity_model_log10 = np.log10(np.exp(recovered_conductivity_model))\n\n# Plot True Model\nfig = plt.figure(figsize=(9, 15))\nax1 = 3 * [None]\nax2 = 3 * [None]\ntitle_str = [\n    \"True Conductivity Model\",\n    \"Smooth Recovered Model\",\n    \"Sparse Recovered Model\",\n]\n\nplotting_map = maps.ActiveCells(mesh, ind_active, np.nan)\nplotting_model = [\n    true_conductivity_model_log10,\n    l2_conductivity_model_log10,\n    recovered_conductivity_model_log10,\n]\n\nfor ii in range(0, 3):\n\n    ax1[ii] = fig.add_axes([0.1, 0.73 - 0.3 * ii, 0.72, 0.21])\n    mesh.plotImage(\n        plotting_map * plotting_model[ii],\n        ax=ax1[ii],\n        grid=False,\n        clim=(\n            np.min(true_conductivity_model_log10),\n            np.max(true_conductivity_model_log10),\n        ),\n        range_x=[-700, 700],\n        range_y=[-600, 0],\n        pcolorOpts={\"cmap\": \"viridis\"},\n    )\n    ax1[ii].set_title(title_str[ii])\n    ax1[ii].set_xlabel(\"x (m)\")\n    ax1[ii].set_ylabel(\"z (m)\")\n\n    ax2[ii] = fig.add_axes([0.83, 0.73 - 0.3 * ii, 0.05, 0.21])\n    norm = mpl.colors.Normalize(\n        vmin=np.min(true_conductivity_model_log10),\n        vmax=np.max(true_conductivity_model_log10),\n    )\n    cbar = mpl.colorbar.ColorbarBase(\n        ax2[ii],\n        norm=norm,\n        orientation=\"vertical\",\n        cmap=mpl.cm.viridis,\n        format=\"10^%.1f\",\n    )\n    cbar.set_label(\"$S/m$\", rotation=270, labelpad=15, size=12)\n\nplt.show()"
      ]
    },
    {
      "cell_type": "markdown",
      "metadata": {},
      "source": [
        "## Plotting Predicted DC Data and Misfit\n\n\n"
      ]
    },
    {
      "cell_type": "code",
      "execution_count": null,
      "metadata": {
        "collapsed": false
      },
      "outputs": [],
      "source": [
        "# Predicted data from recovered model\ndpred = simulation.dpred(recovered_conductivity_model)\ndc_data_predicted = data.Data(survey, dobs=dpred)\n\ndata_array = [dc_data, dc_data_predicted, dc_data]\ndobs_array = [None, None, (dobs - dpred) / std]\n\nfig = plt.figure(figsize=(17, 5.5))\nplot_title = [\"Observed\", \"Predicted\", \"Normalized Misfit\"]\nplot_type = [\"appConductivity\", \"appConductivity\", \"misfitMap\"]\nplot_units = [\"S/m\", \"S/m\", \"\"]\nscale = [\"log\", \"log\", \"linear\"]\n\nax1 = 3 * [None]\nnorm = 3 * [None]\ncbar = 3 * [None]\ncplot = 3 * [None]\n\nfor ii in range(0, 3):\n\n    ax1[ii] = fig.add_axes([0.33 * ii + 0.03, 0.05, 0.25, 0.9])\n    cplot[ii] = plot_pseudoSection(\n        data_array[ii],\n        dobs=dobs_array[ii],\n        ax=ax1[ii],\n        survey_type=\"dipole-dipole\",\n        data_type=plot_type[ii],\n        scale=scale[ii],\n        space_type=\"half-space\",\n        pcolorOpts={\"cmap\": \"viridis\"},\n    )\n    ax1[ii].set_title(plot_title[ii])\n\nplt.show()"
      ]
    }
  ],
  "metadata": {
    "kernelspec": {
      "display_name": "Python 3",
      "language": "python",
      "name": "python3"
    },
    "language_info": {
      "codemirror_mode": {
        "name": "ipython",
        "version": 3
      },
      "file_extension": ".py",
      "mimetype": "text/x-python",
      "name": "python",
      "nbconvert_exporter": "python",
      "pygments_lexer": "ipython3",
      "version": "3.7.9"
    }
  },
  "nbformat": 4,
  "nbformat_minor": 0
}