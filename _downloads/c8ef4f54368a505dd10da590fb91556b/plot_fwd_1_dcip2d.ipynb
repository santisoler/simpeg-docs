{
  "cells": [
    {
      "cell_type": "code",
      "execution_count": null,
      "metadata": {
        "collapsed": false
      },
      "outputs": [],
      "source": [
        "%matplotlib inline"
      ]
    },
    {
      "cell_type": "markdown",
      "metadata": {},
      "source": [
        "\n# 2.5D Forward Simulation of a DCIP Line\n\nHere we use the module *SimPEG.electromagnetics.static.resistivity* to predict\nDC resistivity data and the module *SimPEG.electromagnetics.static.induced_polarization*\nto predict IP data for a dipole-dipole survey. In this tutorial, we focus on\nthe following:\n\n    - How to define the survey\n    - How to define the problem\n    - How to predict DC resistivity data for a synthetic resistivity model\n    - How to predict IP data for a synthetic chargeability model\n    - How to include surface topography\n    - The units of the models and resulting data\n\nThis tutorial is split into two parts. First we create a resistivity model and\npredict DC resistivity data. Next we create a chargeability model and a\nbackground conductivity model to compute IP data.\n"
      ]
    },
    {
      "cell_type": "markdown",
      "metadata": {},
      "source": [
        "## Import modules\n\n\n"
      ]
    },
    {
      "cell_type": "code",
      "execution_count": null,
      "metadata": {
        "collapsed": false
      },
      "outputs": [],
      "source": [
        "from discretize import TreeMesh\nfrom discretize.utils import mkvc, refine_tree_xyz\n\nfrom SimPEG.utils import model_builder, surface2ind_topo\nfrom SimPEG import maps, data\nfrom SimPEG.electromagnetics.static import resistivity as dc\nfrom SimPEG.electromagnetics.static import induced_polarization as ip\nfrom SimPEG.electromagnetics.static.utils import (\n    generate_dcip_survey_line,\n    plot_pseudoSection,\n)\n\nimport os\nimport numpy as np\nimport matplotlib as mpl\nimport matplotlib.pyplot as plt\n\ntry:\n    from pymatsolver import Pardiso as Solver\nexcept ImportError:\n    from SimPEG import SolverLU as Solver\n\nsave_file = False\n\n# sphinx_gallery_thumbnail_number = 4"
      ]
    },
    {
      "cell_type": "markdown",
      "metadata": {},
      "source": [
        "## Defining Topography\n\nHere we define surface topography as an (N, 3) numpy array. Topography could\nalso be loaded from a file. In our case, our survey takes place in a valley\nthat runs North-South.\n\n\n"
      ]
    },
    {
      "cell_type": "code",
      "execution_count": null,
      "metadata": {
        "collapsed": false
      },
      "outputs": [],
      "source": [
        "x_topo, y_topo = np.meshgrid(\n    np.linspace(-3000, 3000, 101), np.linspace(-3000, 3000, 101)\n)\nz_topo = (1 / np.pi) * 85 * (-np.pi / 2 + np.arctan((np.abs(x_topo) - 600.0) / 50.0))\nx_topo, y_topo, z_topo = mkvc(x_topo), mkvc(y_topo), mkvc(z_topo)\nxyz_topo = np.c_[x_topo, y_topo, z_topo]"
      ]
    },
    {
      "cell_type": "markdown",
      "metadata": {},
      "source": [
        "## Create Dipole-Dipole Survey\n\nHere we define a single EW survey line that uses a dipole-dipole configuration.\nFor the source, we must define the AB electrode locations. For the receivers\nwe must define the MN electrode locations. Instead of creating the survey\nfrom scratch (see 1D example), we will use the *generat_dcip_survey_line* utility.\n\n\n"
      ]
    },
    {
      "cell_type": "code",
      "execution_count": null,
      "metadata": {
        "collapsed": false
      },
      "outputs": [],
      "source": [
        "# Define survey line parameters\nsurvey_type = \"dipole-dipole\"\ndata_type = \"volt\"\nend_locations = np.r_[-400.0, 400]\nstation_separation = 50.0\ndipole_separation = 25.0\nn = 8\n\n# Generate DC survey line\ndc_survey = generate_dcip_survey_line(\n    survey_type,\n    data_type,\n    end_locations,\n    xyz_topo,\n    station_separation,\n    dipole_separation,\n    n,\n    dim_flag=\"2.5D\",\n    sources_only=False,\n)"
      ]
    },
    {
      "cell_type": "markdown",
      "metadata": {},
      "source": [
        "## Create OcTree Mesh\n\nHere, we create the OcTree mesh that will be used to predict both DC\nresistivity and IP data.\n\n\n"
      ]
    },
    {
      "cell_type": "code",
      "execution_count": null,
      "metadata": {
        "collapsed": false
      },
      "outputs": [],
      "source": [
        "dh = 10.0  # base cell width\ndom_width_x = 2400.0  # domain width x\ndom_width_z = 1200.0  # domain width z\nnbcx = 2 ** int(np.round(np.log(dom_width_x / dh) / np.log(2.0)))  # num. base cells x\nnbcz = 2 ** int(np.round(np.log(dom_width_z / dh) / np.log(2.0)))  # num. base cells z\n\n# Define the base mesh\nhx = [(dh, nbcx)]\nhz = [(dh, nbcz)]\nmesh = TreeMesh([hx, hz], x0=\"CN\")\n\n# Mesh refinement based on topography\nmesh = refine_tree_xyz(\n    mesh, xyz_topo[:, [0, 2]], octree_levels=[1], method=\"surface\", finalize=False\n)\n\n# Mesh refinement near transmitters and receivers. First we need to obtain the\n# set of unique electrode locations.\nelectrode_locations = np.c_[\n    dc_survey.locations_a,\n    dc_survey.locations_b,\n    dc_survey.locations_m,\n    dc_survey.locations_n,\n]\n\nunique_locations = np.unique(\n    np.reshape(electrode_locations, (4 * dc_survey.nD, 2)), axis=0\n)\n\nmesh = refine_tree_xyz(\n    mesh, unique_locations, octree_levels=[2, 4], method=\"radial\", finalize=False\n)\n\n# Refine core mesh region\nxp, zp = np.meshgrid([-800.0, 800.0], [-800.0, 0.0])\nxyz = np.c_[mkvc(xp), mkvc(zp)]\nmesh = refine_tree_xyz(mesh, xyz, octree_levels=[0, 2, 2], method=\"box\", finalize=False)\n\nmesh.finalize()"
      ]
    },
    {
      "cell_type": "markdown",
      "metadata": {},
      "source": [
        "## Create Conductivity Model and Mapping for OcTree Mesh\n\nHere we define the conductivity model that will be used to predict DC\nresistivity data. The model consists of a conductive sphere and a\nresistive sphere within a moderately conductive background. Note that\nyou can carry through this work flow with a resistivity model if desired.\n\n\n"
      ]
    },
    {
      "cell_type": "code",
      "execution_count": null,
      "metadata": {
        "collapsed": false
      },
      "outputs": [],
      "source": [
        "# Define conductivity model in S/m (or resistivity model in Ohm m)\nair_conductivity = 1e-8\nbackground_conductivity = 1e-2\nconductor_conductivity = 1e-1\nresistor_conductivity = 1e-3\n\n# Find active cells in forward modeling (cell below surface)\nind_active = surface2ind_topo(mesh, xyz_topo[:, [0, 2]])\n\n# Define mapping from model to active cells\nnC = int(ind_active.sum())\nconductivity_map = maps.InjectActiveCells(mesh, ind_active, air_conductivity)\n\n# Define model\nconductivity_model = background_conductivity * np.ones(nC)\n\nind_conductor = model_builder.getIndicesSphere(np.r_[-120.0, -180.0], 60.0, mesh.gridCC)\nind_conductor = ind_conductor[ind_active]\nconductivity_model[ind_conductor] = conductor_conductivity\n\nind_resistor = model_builder.getIndicesSphere(np.r_[120.0, -180.0], 60.0, mesh.gridCC)\nind_resistor = ind_resistor[ind_active]\nconductivity_model[ind_resistor] = resistor_conductivity\n\n\n# Plot Conductivity Model\nfig = plt.figure(figsize=(8.5, 4))\n\nplotting_map = maps.InjectActiveCells(mesh, ind_active, np.nan)\nlog_mod = np.log10(conductivity_model)\n\nax1 = fig.add_axes([0.1, 0.12, 0.73, 0.78])\nmesh.plotImage(\n    plotting_map * log_mod,\n    ax=ax1,\n    grid=False,\n    clim=(np.log10(resistor_conductivity), np.log10(conductor_conductivity)),\n    pcolorOpts={\"cmap\": \"viridis\"},\n)\nax1.set_title(\"Conductivity Model\")\nax1.set_xlabel(\"x (m)\")\nax1.set_ylabel(\"z (m)\")\n\nax2 = fig.add_axes([0.85, 0.12, 0.05, 0.78])\nnorm = mpl.colors.Normalize(\n    vmin=np.log10(resistor_conductivity), vmax=np.log10(conductor_conductivity)\n)\ncbar = mpl.colorbar.ColorbarBase(\n    ax2, norm=norm, cmap=mpl.cm.viridis, orientation=\"vertical\", format=\"$10^{%.1f}$\"\n)\ncbar.set_label(\"Conductivity [S/m]\", rotation=270, labelpad=15, size=12)"
      ]
    },
    {
      "cell_type": "markdown",
      "metadata": {},
      "source": [
        "## Project Survey to Discretized Topography\n\nIt is important that electrodes are not model as being in the air. Even if the\nelectrodes are properly located along surface topography, they may lie above\nthe discretized topography. This step is carried out to ensure all electrodes\nlike on the discretized surface.\n\n\n"
      ]
    },
    {
      "cell_type": "code",
      "execution_count": null,
      "metadata": {
        "collapsed": false
      },
      "outputs": [],
      "source": [
        "dc_survey.drape_electrodes_on_topography(mesh, ind_active, option=\"top\")"
      ]
    },
    {
      "cell_type": "markdown",
      "metadata": {},
      "source": [
        "## Predict DC Resistivity Data\n\nHere we predict DC resistivity data. If the keyword argument *sigmaMap* is\ndefined, the simulation will expect a conductivity model. If the keyword\nargument *rhoMap* is defined, the simulation will expect a resistivity model.\n\n\n"
      ]
    },
    {
      "cell_type": "code",
      "execution_count": null,
      "metadata": {
        "collapsed": false
      },
      "outputs": [],
      "source": [
        "dc_simulation = dc.simulation_2d.Simulation2DNodal(\n    mesh, survey=dc_survey, sigmaMap=conductivity_map, Solver=Solver\n)\n\n# Predict the data by running the simulation. The data are the raw voltage in\n# units of volts.\ndpred_dc = dc_simulation.dpred(conductivity_model)\n\n# Define a data object (required for pseudo-section plot)\ndc_data = data.Data(dc_survey, dobs=dpred_dc)\n\n# Plot apparent conductivity pseudo-section\nfig = plt.figure(figsize=(12, 5))\n\nax1 = fig.add_axes([0.05, 0.05, 0.8, 0.9])\nplot_pseudoSection(\n    dc_data,\n    ax=ax1,\n    survey_type=\"dipole-dipole\",\n    data_type=\"appConductivity\",\n    space_type=\"half-space\",\n    scale=\"log\",\n    pcolorOpts={\"cmap\": \"viridis\"},\n)\nax1.set_title(\"Apparent Conductivity [S/m]\")\n\nplt.show()"
      ]
    },
    {
      "cell_type": "markdown",
      "metadata": {},
      "source": [
        "## Optional: Write out dpred\n\nWrite DC resistivity data, topography and true model\n\n\n"
      ]
    },
    {
      "cell_type": "code",
      "execution_count": null,
      "metadata": {
        "collapsed": false
      },
      "outputs": [],
      "source": [
        "if save_file:\n\n    dir_path = os.path.dirname(dc.__file__).split(os.path.sep)[:-4]\n    dir_path.extend([\"tutorials\", \"assets\", \"dcip2d\"])\n    dir_path = os.path.sep.join(dir_path) + os.path.sep\n\n    # Add 5% Gaussian noise to each datum\n    dc_noise = 0.05 * dpred_dc * np.random.rand(len(dpred_dc))\n\n    # Write out data at their original electrode locations (not shifted)\n    data_array = np.c_[electrode_locations, dpred_dc + dc_noise]\n\n    fname = dir_path + \"dc_data.obs\"\n    np.savetxt(fname, data_array, fmt=\"%.4e\")\n\n    fname = dir_path + \"true_conductivity.txt\"\n    np.savetxt(fname, conductivity_map * conductivity_model, fmt=\"%.4e\")\n\n    fname = dir_path + \"xyz_topo.txt\"\n    np.savetxt(fname, xyz_topo, fmt=\"%.4e\")"
      ]
    },
    {
      "cell_type": "markdown",
      "metadata": {},
      "source": [
        "## Predict IP Resistivity Data\n\nThe geometry of the survey was defined earlier. Here, we use SimPEG functionality\nto make a copy for predicting IP data.\n\n\n"
      ]
    },
    {
      "cell_type": "code",
      "execution_count": null,
      "metadata": {
        "collapsed": false
      },
      "outputs": [],
      "source": [
        "ip_survey = ip.from_dc_to_ip_survey(dc_survey, dim=\"2.5D\")"
      ]
    },
    {
      "cell_type": "markdown",
      "metadata": {},
      "source": [
        "## Create Chargeability Model and Mapping for OcTree Mesh\n\nHere we define the chargeability model that will be used to predict IP data.\nHere we assume that the conductive sphere is also chargeable but the resistive\nsphere is not. Here, the chargeability is defined as mV/V.\n\n\n"
      ]
    },
    {
      "cell_type": "code",
      "execution_count": null,
      "metadata": {
        "collapsed": false
      },
      "outputs": [],
      "source": [
        "# Define chargeability model as intrinsic chargeability (V/V).\nair_chargeability = 0.0\nbackground_chargeability = 0.0\nsphere_chargeability = 1e-1\n\n# Find active cells in forward modeling (cells below surface)\nind_active = surface2ind_topo(mesh, xyz_topo[:, [0, 2]])\n\n# Define mapping from model to active cells\nnC = int(ind_active.sum())\nchargeability_map = maps.InjectActiveCells(mesh, ind_active, air_chargeability)\n\n# Define chargeability model\nchargeability_model = background_chargeability * np.ones(nC)\n\nind_chargeable = model_builder.getIndicesSphere(\n    np.r_[-120.0, -180.0], 60.0, mesh.gridCC\n)\nind_chargeable = ind_chargeable[ind_active]\nchargeability_model[ind_chargeable] = sphere_chargeability\n\n# Plot Chargeability Model\nfig = plt.figure(figsize=(8.5, 4))\n\nax1 = fig.add_axes([0.1, 0.1, 0.75, 0.78])\nmesh.plotImage(\n    plotting_map * chargeability_model,\n    ax=ax1,\n    grid=False,\n    pcolorOpts={\"cmap\": \"plasma\"},\n)\nax1.set_title(\"Intrinsic Chargeability\")\nax1.set_xlabel(\"x (m)\")\nax1.set_ylabel(\"z (m)\")\n\nax2 = fig.add_axes([0.87, 0.12, 0.05, 0.78])\nnorm = mpl.colors.Normalize(vmin=0, vmax=sphere_chargeability)\ncbar = mpl.colorbar.ColorbarBase(\n    ax2, norm=norm, orientation=\"vertical\", cmap=mpl.cm.plasma\n)\ncbar.set_label(\"Intrinsic Chargeability (V/V)\", rotation=270, labelpad=15, size=12)"
      ]
    },
    {
      "cell_type": "markdown",
      "metadata": {},
      "source": [
        "## Predict IP Data\n\nHere we use a chargeability model and a background conductivity/resistivity\nmodel to predict IP data.\n\n\n"
      ]
    },
    {
      "cell_type": "code",
      "execution_count": null,
      "metadata": {
        "collapsed": false
      },
      "outputs": [],
      "source": [
        "# We use the keyword argument *sigma* to define the background conductivity on\n# the mesh. We could use the keyword argument *rho* to accomplish the same thing\n# using a background resistivity model.\nsimulation_ip = ip.simulation_2d.Simulation2DNodal(\n    mesh,\n    survey=ip_survey,\n    etaMap=chargeability_map,\n    sigma=conductivity_map * conductivity_model,\n    Solver=Solver,\n)\n\n# Run forward simulation and predicted IP data. The data are the voltage (V)\ndpred_ip = simulation_ip.dpred(chargeability_model)\n\n# Define a data object. Required for pseudo-section plot\nip_data = data.Data(ip_survey, dobs=dpred_ip)\n\n# Plot apparent chargeability. To accomplish this, we must normalize the IP\n# voltage by the DC voltage. This is then multiplied by 1000 so that our\n# apparent chargeability is in units mV/V.\nfig = plt.figure(figsize=(12, 9))\n\n# Plot apparent conductivity\nax1 = fig.add_axes([0.05, 0.55, 0.8, 0.42])\nplot_pseudoSection(\n    dc_data,\n    ax=ax1,\n    survey_type=\"dipole-dipole\",\n    data_type=\"appConductivity\",\n    space_type=\"half-space\",\n    scale=\"log\",\n    pcolorOpts={\"cmap\": \"viridis\"},\n)\nax1.set_title(\"Apparent Conductivity [S/m]\")\n\n# Convert from voltage measurement to apparent chargeability by normalizing by\n# the DC voltage\napparent_chargeability = dpred_ip / dpred_dc\n\nax2 = fig.add_axes([0.05, 0.05, 0.8, 0.42])\nplot_pseudoSection(\n    ip_data,\n    dobs=apparent_chargeability,\n    ax=ax2,\n    survey_type=\"dipole-dipole\",\n    data_type=\"appChargeability\",\n    space_type=\"half-space\",\n    scale=\"linear\",\n    pcolorOpts={\"cmap\": \"plasma\"},\n)\nax2.set_title(\"Apparent Chargeability (V/V)\")\n\nplt.show()"
      ]
    },
    {
      "cell_type": "markdown",
      "metadata": {},
      "source": [
        "## Write out dpred\n\nWrite data and true model\n\n\n"
      ]
    },
    {
      "cell_type": "code",
      "execution_count": null,
      "metadata": {
        "collapsed": false
      },
      "outputs": [],
      "source": [
        "if save_file:\n\n    # Add 1% Gaussian noise based on the DC data (not the IP data)\n    ip_noise = 0.01 * np.abs(dpred_dc) * np.random.rand(len(dpred_ip))\n\n    data_array = np.c_[electrode_locations, dpred_ip + ip_noise]\n\n    fname = dir_path + \"ip_data.obs\"\n    np.savetxt(fname, data_array, fmt=\"%.4e\")\n\n    fname = dir_path + \"true_chargeability.txt\"\n    np.savetxt(fname, chargeability_map * chargeability_model, fmt=\"%.4e\")"
      ]
    }
  ],
  "metadata": {
    "kernelspec": {
      "display_name": "Python 3",
      "language": "python",
      "name": "python3"
    },
    "language_info": {
      "codemirror_mode": {
        "name": "ipython",
        "version": 3
      },
      "file_extension": ".py",
      "mimetype": "text/x-python",
      "name": "python",
      "nbconvert_exporter": "python",
      "pygments_lexer": "ipython3",
      "version": "3.7.9"
    }
  },
  "nbformat": 4,
  "nbformat_minor": 0
}